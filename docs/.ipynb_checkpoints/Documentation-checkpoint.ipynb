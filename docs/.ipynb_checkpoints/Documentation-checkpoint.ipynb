{
 "cells": [
  {
   "cell_type": "markdown",
   "metadata": {},
   "source": [
    "# AD20 Documentation\n",
    "\n",
    "Group 20: Lindsey Brown, Xinyue Wang, Kevin Yoon"
   ]
  },
  {
   "cell_type": "markdown",
   "metadata": {},
   "source": [
    "# Table of Contents\n",
    "\n",
    "**1. Introduction**\n",
    "\n",
    "    1.1 Automatic Differentiation as a Solution to the Problem of Computing Derivatives\n",
    "    1.2 Application of AD Techniques\n",
    "    \n",
    "**2. Background**\n",
    "\n",
    "    2.1 Chain Rule\n",
    "    2.2 Computational Graph Structure\n",
    "    2.3 Dual Numbers\n",
    "    2.4 Elementary Functions\n",
    "    \n",
    "**3. Package Usage**\n",
    "\n",
    "    3.1 User Interaction\n",
    "    3.2 Getting Started: Installation\n",
    "    3.3 Importing AD20\n",
    "    3.4 Instantiating AD20 Objects\n",
    "    3.5 Newton's Method for a Scalar Valued Function\n",
    "    3.6 Functions of Multiple Variables, Functions of Vector Inputs, and Vector Valued Functions\n",
    "    \n",
    "**4. Software Organization**\n",
    "\n",
    "    4.1 Directory Structure\n",
    "    4.2 Modules and Functionality\n",
    "    4.3 Testing and Coverage\n",
    "    4.4 Package Distribution\n",
    "    \n",
    "**5. Implementation**\n",
    "\n",
    "    5.1 Core Data Structures\n",
    "    5.2 Implemented Classes, Methods, and Attributes\n",
    "    5.3 External Dependencies\n",
    "    5.4 Elementary Functions\n",
    "    \n",
    "**6. Project Extension**\n",
    "\n",
    "    6.1 Computational Graphs and Tables\n",
    "    6.2 Graphical User Interface\n",
    "    6.3 Future Work"
   ]
  },
  {
   "cell_type": "markdown",
   "metadata": {},
   "source": [
    "# 1. Introduction\n",
    "The AD20 package performs the forward mode of automatic differentiation of user defined functions, evaluating both the function and its derivatives to machine precision.\n",
    "\n",
    "## 1.1 Automatic Differentiation as a Solution to the Problem of Computing Derivatives\n",
    "\n",
    "Differentiation is a fundamental operation for computational science. Used in a variety of applications from optimization to sensitivity analysis, differentiation is most useful when two conditions are met: it must be exact (up to machine precision) and computationally efficient.\n",
    "\n",
    "Automatic differentiation (AD) (i.e. algorithmic differentiation, computational differentiation) computes the derivative of a function, unique for its ability to handle complex combinations of functions without sacrificing the accuracy. Regardless of how complex the function may be, AD takes advantage of the fact that the function can be decomposed into a sequence of elementary arithmetic operations (addition, subtraction, multiplication, division, etc.) and elementary functions (exp, log, sin, cos, etc.). \n",
    "\n",
    "Through computing the derivatives of these basic elementary functions and repeatedly applying the chain rule, AD meets the two aforementioned conditions and distinguishes itself from other modes of differentiation, namely numerical differentiation and symbolic differentiation. \n",
    "\n",
    "**Numerical Differentiation through Finite Difference Methods:** \n",
    "This class of techniques uses the definition of a derivative,\n",
    "$$\\frac{df(x)}{dt} = \\lim_{h \\rightarrow 0} \\frac{f(x+h)-f(x)}{h}$$\n",
    "to approximate the derivative by evaluating the right hand side for small $h$.  Such a technique is easy to code because it requires only defining and evaluating $f$, but it has limitations in precision due to truncation and roundoff errors, alongside the challenge of choosing an appropriately sized $h$.  While more complex finite difference schemes have been used to increase accuracy, all numerical differentiation remains only approximate with sensitivity to the choice in step size.\n",
    "\n",
    "**Symbolic Differentiation:**\n",
    "Symbolic differentiation addresses the shortcomings of approximation in numerical differentiation by computing derivatives to machine precision using expression trees, which quickly become inefficient to compute. \n",
    "\n",
    "Both of these options have been used in a variety of different applications to compute derivatives, but both have shortcomings that are addressed by automatic differentiation.  For this reason, for many computational applications, automatic differentiation is preferred:\n",
    "\n",
    "- While numerical differentiation may be easy to implement and can flexibly handle any type of function, accuracy is sacrificed due to truncation and rounding errors - numerical differentiation serves more as an estimation technique based on small inputs. Unlike numerical differentiation, automatic differentiation does not rely on approximating the derivative through the choice of a small perturbation in the input, and instead computes derivatives exactly to machine precision, thus avoiding these accuracy and stability problems.\n",
    "\n",
    "\n",
    "- While symbolic differentiation may ensure accuracy up to machine precision, computational efficiency is sacrified due to the nature of building complex expression trees. For complex functions, these expression trees can quickly become very large with many mathematical expressions. Unlike symbolic differentiation, automatic differentiation views functions as compositions of basic operations, remains accurate up to machine precision, and maintains computational efficiency since it does not require the buildup and evaluation of complex expression trees.\n",
    " \n",
    "Thus, it is clear that automatic differentiation has advantages over other commonly used techniques for computing derivatives. These advantages make the use of AD attractive to many scientific applications. \n",
    "\n",
    "## 1.2 Application of AD Techniques\n",
    "\n",
    "Through its improved accuracy and efficiency, AD has many different applications where accuracy, precision, and efficiency is crucial in computation. Some potential applications include: \n",
    "\n",
    "- Machine learning (ability to understand data and make models/predictions), where backpropagation is used to parameterize neural nets among other parameter optimization techniques\n",
    "- Parameter optimization (ability to choose best parameter values under given conditions), where methods requiring derivatives may be used to find the optima\n",
    "- Sensitivity analysis (ability to understand different factors and their impact), which requires computing partial derivatives with respect to different inputs and parameters\n",
    "- Physical modeling (ability to visualize and depict data through models), where different physical properties are related through derivatives (for example, acceleration is the derivative of velocity)\n",
    "- Probabilistic inference, where many sampling methods (for example, Hamiltonian Monte Carlo) are derivative based\n",
    "\n",
    "This large range of applications motivates the development of a package that can easily be used to compute derivatives up to machine precision efficiently, precisely the problem solved by automatic differentiation."
   ]
  },
  {
   "cell_type": "markdown",
   "metadata": {},
   "source": [
    "# 2. Background\n",
    "\n",
    "Here we discuss the mathematical concepts and computational process needed to perform automatic differentiation.\n",
    "\n",
    "## 2.1 The Chain Rule\n",
    "\n",
    "The chain rule forms the core concept behind automatic differentiation.  The chain rule gives the formula for calculating derivates of a composition of functions by sequentially taking derivatives of the outermost to innermost function.  The chain rule gives us that for a function $f\\left(g\\left(t\\right)\\right)$, we find the derivative of $f$ with respect to $t$ by multiplying a series of derivatives,\n",
    "$$\\dfrac{\\partial f}{\\partial t} = \\dfrac{\\partial f}{\\partial g}\\dfrac{\\partial g}{\\partial t}.$$\n",
    "\n",
    "Similarly, AD performs differentiation by decomposing complex functions into combinations of simpler, more elementary functions then computing the derivatives of the elementary functions to piece them together to get the overall derivative. By expressing the function as a composition of elementary functions and operations, the derivative of the function can be calculated by applying the chain rule.\n",
    "\n",
    "The chain rule can be generalized to multiple dimensions, just as automatic differentiation can compute gradients of functions of multiple inputs.  For example, for the function $f(g(u, v), h(u, v))$, we have\n",
    "$$\\dfrac{\\partial f}{\\partial u} = \\dfrac{\\partial f}{\\partial g}\\dfrac{\\partial g}{\\partial u} + \\dfrac{\\partial f}{\\partial h}\\dfrac{\\partial h}{\\partial u}$$\n",
    "and \n",
    "$$\\dfrac{\\partial f}{\\partial v} = \\dfrac{\\partial f}{\\partial g}\\dfrac{\\partial g}{\\partial v} + \\dfrac{\\partial f}{\\partial h}\\dfrac{\\partial h}{\\partial v}$$\n",
    "where the gradient is given by\n",
    "$$\\nabla f = \\left(\\dfrac{\\partial f}{\\partial u}, \\dfrac{\\partial f}{\\partial v}\\right)$$\n",
    "\n",
    "In the most general form, we have for $f(g(x))$ with $x \\in \\mathbb{R}^m$ and $g \\in \\mathbb{R}^m$,\n",
    "\n",
    "$$ \\nabla_x f = \\sum_{i=1}^n \\frac{\\partial f}{\\partial g{i}}\\nabla_x g_i $$\n",
    "\n",
    "## 2.2 Graph Structure of Calculations\n",
    "\n",
    "Automatic differentation computes derivatives by constructing a function through a sequence of elementary operations and functions.  We can visualize the process of constructing a function in this way through a computational graph, where the nodes are functions and the directed edges describe the computations which connect the nodes.  By tracing a path from the input nodes to the output final function, we trace the same computations which are done by the automatic differentiation method to evaluate the function and its derivative.\n",
    "\n",
    "### Example: The Computational Graph\n",
    "Consider the example function $$f\\left(x,y\\right) = x^{3} + \\sin(5y)$$\n",
    "evaluated at $(x,y) = (1, \\frac{\\pi}{5})$.\n",
    "\n",
    " The evaluation trace looks like:\n",
    "\n",
    "![comp-table](figs/comptable.jpg)\n",
    "\n",
    "The evaluation trace can be visualized with a computational graph.\n",
    "\n",
    "![comp-graph](figs/compgraphppt.jpg)\n",
    "\n",
    "Through the same fundamental process, building complex functions through the composition of elementary functions, automatic differentiation computes derivatives exactly to machine precision.  Our package exploits different data structures, classes, and methods to implement this technique.\n",
    "\n",
    "## 2.3 Dual Numbers\n",
    "Analogously to complex numbers, a dual number has a real part and a dual part.  We write $$f = y + \\epsilon y^{\\prime},$$ where $y$ is the real part and $y^{\\prime}$ is the dual part.  The number $\\epsilon$ is defined as a special constant such that $\\epsilon^{2} = 0$.\n",
    "\n",
    "#### Properties of Dual Numbers\n",
    "Again by analogy to complex numbers, we can define several properties of the dual numbers, which are useful in performing calculations with them:\n",
    "* Conjugate:  $f^{*} = y - \\epsilon y^{\\prime}$.\n",
    "* Magnitude: $\\left|f\\right|^{2} = ff^{*} = \\left(y+\\epsilon y^{\\prime}\\right)\\left(y-\\epsilon y^{\\prime}\\right) = y^{2}$.\n",
    "* Polar form: $f = y\\left(1 + \\dfrac{y^{\\prime}}{y}\\right)$.\n",
    "\n",
    "More significantly, the dual numbers have the property that they can be used to compute derivatives of functions.  If we wish to compute the derivative of $f(x)$, the real part of $f(x+x'\\epsilon)$ gives us the value of the function while the dual part gives us the value of the derivative as can be seen in the following example from lecture,\n",
    "\n",
    "#### Example\n",
    "Let $f(z)=z^{2}$.  We know that the derivative is $f^{\\prime}(z) = 2zz^{\\prime} = 2z$.\n",
    "\n",
    "Consider instead evaluating, $f(z+z'\\epsilon)$, where we have extended z to the dual numbers, \n",
    "\n",
    "$$ f = \\left(z + \\epsilon z^{\\prime}\\right)^{2}$$\n",
    "$$= z^{2} + 2zz'\\epsilon + z'^{2}\\epsilon^{2} $$\n",
    "Since $\\epsilon^2 = 0$, \n",
    "$$ = z^{2} + 2zz^{\\prime}\\epsilon $$\n",
    "$$ = f(z) + f'(z)\\epsilon $$\n",
    "\n",
    "\n",
    "where we see that the real part is just the original function and the dual part is the derivative.\n",
    "\n",
    "While our implementation of automatic differentiation does not use dual numbers explicitly, it is inspired by this structure.  Each object that we evaluate will contain an attribute of its value, corresponding to the real part of a dual number, and an attribute for its derivative, corresponding to the dual part of a dual number.\n",
    "\n",
    "\n",
    "## 2.4 Elementary Functions\n",
    "Any complex equation can be broken into combinations of elementary operations and functions. The elementary operations include addition, subtraction, multiplication, division, and exponentiation.  The elementary functions include the natural exponential, the natural logarithm, and the trigonometric functions.  These functions are considered elementary because they form the core set of elements used to build more complex functions.\n",
    "\n",
    "We know how to explicitly compute the derivatives of both elementary operations and functions, given by the standard set of calculus rules.  We will not go into details about how to calculate the derivatives of those functions here, but more information can be found on the following link.\n",
    "\n",
    "http://www.nabla.hr/FU-DerivativeA5.htm\n",
    "\n",
    "Because every function is composed of elementary functions and we can take the derivative of a composition of functions by applying the chain rule, we can take the derivative of any function by knowing the derivative of these elementary functions.  It is this principle that forms the core of the automatic differentiation algorithm, implemented in this package.\n"
   ]
  },
  {
   "cell_type": "markdown",
   "metadata": {},
   "source": [
    "# 3. Package Usage\n",
    "\n",
    "## 3.1 User Interaction\n",
    "Users should use `ADnum` objects to represent mathematical objects for which they would like to evaluate a value or a derivative.  By forming `ADnum` objects for the function inputs, the elementary operations and functions defined for the `ADnum` class can be composed to create any desired function, which will also be of the `ADnum` class, with associated value and derivative attributes. All operations are defined for an `ADnum` object. Users need to create an `ADnum` object for each input variable and use all the mathematical functions defined in the `ADmath` library to implement special functions.\n",
    "\n",
    "## 3.2 Getting Started: Installing the Package\n",
    "### Using PIP\n",
    "The `AD20` package can be installed through PYPI, using the following command:\n",
    "\n",
    "    pip install AD20\n",
    "\n",
    "### Using Git\n",
    "Alternatively, the files can be downloaded from the github repository using:\n",
    "\n",
    "    git clone https://github.com/CS207-AD20/cs207-FinalProject.git\n",
    "\n",
    "### Working with the Package in a Virtual Environment\n",
    "For deployment purposes, we recommend using a virtual environment in case you may have different packages with different dependencies. A virtual environment will make deployment easier by keeping multiple environments separate. \n",
    "\n",
    "Download virtualenv if you do not already have it installed:\n",
    "\n",
    "    sudo easy_install virtualenv\n",
    "\n",
    "If you choose to install `AD20` using pip install,\n",
    "   \n",
    "   pip install AD20\n",
    "\n",
    "Otherwise, in your cloned repositroy, at the top of your directory, initialize a new virtual environment called `env`, activate the virtual environment, and install all necessary packages:\n",
    "\n",
    "    virtualenv env\n",
    "    source env/bin/activate\n",
    "    pip install -r requirements.txt\n",
    "\n",
    "`requirements.txt` has been created to help you install all the packages that you may need. The last command `pip install -r requirements.txt` will install those packages for you automatically.\n",
    "\n",
    "To deactivate the virtual environment once finished, deactivate it.\n",
    "\n",
    "    deactivate\n"
   ]
  },
  {
   "cell_type": "markdown",
   "metadata": {},
   "source": [
    "## 3.3 Importing AD20\n",
    "In order to import and use `ADnum`, the user should import the package: \n",
    "    \n",
    "    import AD20\n",
    "    \n",
    "The package also contains three modules which can each be imported from the main package.  For ease of use, and to follow the examples below, we suggest: \n",
    "\n",
    "    from AD20.ADnum import ADnum\n",
    "    \n",
    "    from AD20 import ADmath\n",
    "\n",
    "    from AD20 import ADgraph"
   ]
  },
  {
   "cell_type": "code",
   "execution_count": 1,
   "metadata": {},
   "outputs": [
    {
     "name": "stdout",
     "output_type": "stream",
     "text": [
      "C:\\Users\\Lindsey\\Documents\\lindsey\\Harvard G3\\Fall Semester\\SystemsDevelopment\\cs207-FinalProject\n",
      "C:\\Users\\Lindsey\\Documents\\lindsey\\Harvard G3\\Fall Semester\\SystemsDevelopment\\cs207-FinalProject\\AD20\n"
     ]
    }
   ],
   "source": [
    "#commands to change to the correct directory\n",
    "%pwd \n",
    "%cd ..\n",
    "%cd AD20"
   ]
  },
  {
   "cell_type": "code",
   "execution_count": 5,
   "metadata": {
    "collapsed": true
   },
   "outputs": [],
   "source": [
    "import AD20\n",
    "from AD20.ADnum import ADnum\n",
    "from AD20 import ADmath\n",
    "from AD20 import ADgraph\n",
    "\n",
    "import numpy as np\n",
    "import matplotlib.pyplot as plt\n",
    "%matplotlib inline"
   ]
  },
  {
   "cell_type": "markdown",
   "metadata": {},
   "source": [
    "## 3.4 Instantiating AD20\n",
    "After importing `AD20`, a user creates a class instance of an `ADnum` with some value to be used as input to a function. In the future, `AD20` will be able to handle scalar or vector functions with scalar or vector inputs.  Our current implementation performs automatic differentiation of scalar functions of a scalar variable.\n",
    "\n",
    "### Steps for Instantiating Variables and Functions\n",
    "\n",
    "#### 1. Initialize a variable (i.e. `x`) with a specific value that it will be evaluated on.\n",
    "- Either initialize the value and the derivative\n",
    "\n",
    "```python\n",
    "\n",
    "x = ADnum(5, der = 1)\n",
    "\n",
    "```\n",
    "\n",
    "- Or specify the number of input variables (ins) to the function and the index (ind) of each variable\n",
    "\n",
    "```python\n",
    "x = ADnum(5, ins = 1, ind = 0)\n",
    "```\n",
    "\n",
    "#### 2. Define a function (i.e. `f`) with the variable and any other elementary functions from the ADmath module\n",
    "- Either directly combine previously created ADnum objects\n",
    "\n",
    "```python\n",
    "f = ADmath.sin(x)+3*ADmath.tan(x)\n",
    "```\n",
    "\n",
    "-Or define a function and provide an ADnum object as input\n",
    "```python\n",
    "def g(z):\n",
    "    return ADmath.sin(z)+3*ADmath.tan(z)\n",
    "g(x) #an ADnum\n",
    "```\n",
    "\n",
    "####    3. `f.val` will return the value of the function evaluated at the specific value\n",
    "####    4. `f.der` will return the derivative at the specific value\n",
    "####    5.  Visualize f and the computational process using the tools in the `ADgraph` module\n",
    "-See section 6 for more details on how to use these features.\n",
    "\n",
    "Full code examples for scalar or vector inputs and scalar or vectored valued functions are given below."
   ]
  },
  {
   "cell_type": "markdown",
   "metadata": {},
   "source": [
    "### Scalar Function of a Scalar Variable\n",
    "\n",
    "Here we show several examples of scalar functions of scalar variables, including an example of using our package to implement Newton's Method. "
   ]
  },
  {
   "cell_type": "code",
   "execution_count": 3,
   "metadata": {},
   "outputs": [
    {
     "name": "stdout",
     "output_type": "stream",
     "text": [
      "26.0\n",
      "[12.  2.]\n",
      "3.0\n",
      "[1. 0.]\n",
      "4.0\n",
      "[0. 1.]\n"
     ]
    }
   ],
   "source": [
    "# Step 1: intialize x and y to a specific value\n",
    "x = ADnum(3, ins = 2, ind = 0) \n",
    "y = ADnum(4, ins = 2, ind= 1)\n",
    "\n",
    "# Step 2: define a function f\n",
    "f = 2 * y + 2*x**2\n",
    "\n",
    "# Steps 3 and 4: Use the class attributes to access the value and \n",
    "# deriviative of the function at the value of the input x \n",
    "\n",
    "print(f.val) \n",
    "print(f.der) \n",
    "print(x.val)\n",
    "print(x.der) \n",
    "print(y.val)\n",
    "print(y.der)\n"
   ]
  },
  {
   "cell_type": "code",
   "execution_count": 6,
   "metadata": {},
   "outputs": [
    {
     "name": "stdout",
     "output_type": "stream",
     "text": [
      "1.2246467991473532e-16\n",
      "-1.0\n",
      "3.141592653589793\n",
      "1.0\n"
     ]
    }
   ],
   "source": [
    "#another example with a trignometric function, using the ADmath module\n",
    "\n",
    "x = ADnum(np.pi, der = 1) # Step 1: initialize x, this time at pi\n",
    "f = ADmath.sin(x) # Step 2: create a function, using elementary functions from the ADmath module\n",
    "\n",
    "#Steps 3 and 4: Use the class attributes to access the value and derivative\n",
    "print(f.val) # should print 1.22e-16 due to floating point error in numpy implementation (should be 0)\n",
    "print(f.der) # should print -1.0\n",
    "print(x.val) # should print 3.14\n",
    "print(x.der) # should print 1"
   ]
  },
  {
   "cell_type": "markdown",
   "metadata": {},
   "source": [
    "Suppose we wanted to easily be able to access the value and derivative of a function at many different points.  As an alternative to the method for defining `f` in the previous two examples, we could define `f` as a python function:"
   ]
  },
  {
   "cell_type": "code",
   "execution_count": 8,
   "metadata": {},
   "outputs": [
    {
     "name": "stdout",
     "output_type": "stream",
     "text": [
      "3.718281828459045 3.718281828459045\n",
      "3.718281828459045 3.718281828459045\n"
     ]
    }
   ],
   "source": [
    "#example to easily access value and derivative at multiple points by defining f as a function\n",
    "def f(x):\n",
    "    return x + ADmath.exp(x)\n",
    "\n",
    "#get the value and derivative at 1\n",
    "y = ADnum(1, der = 1)\n",
    "print(f(y).val, f(y).der)\n",
    "\n",
    "#an alternate approach to get the value and derivative at 1\n",
    "print(f(ADnum(1, der = 1)).val, f(ADnum(1, der = 1)).der)"
   ]
  },
  {
   "cell_type": "markdown",
   "metadata": {},
   "source": [
    "Notice that in the above example, we required the natural exponential, an elementary function, to be used from the ADmath package, so that f may take as input and return an ADnum object."
   ]
  },
  {
   "cell_type": "markdown",
   "metadata": {},
   "source": [
    "## 3.5 Newton's Method for a Scalar Valued Function\n",
    "One basic application of differentiation is Newton's method for finding roots of a function.  For demonstration of using our package for such an application, we will consider the function\n",
    "$$f(x) = x^2 + \\sin(x)$$\n",
    "which we know has a root at $x=0$.  The plot below also shows that the function has an additional root near -1."
   ]
  },
  {
   "cell_type": "code",
   "execution_count": 9,
   "metadata": {
    "scrolled": true
   },
   "outputs": [
    {
     "data": {
      "text/plain": [
       "Text(0.5, 1.0, 'Plot of f(x) Showing Two Roots')"
      ]
     },
     "execution_count": 9,
     "metadata": {},
     "output_type": "execute_result"
    },
    {
     "data": {
      "image/png": "[encoded data removed]",
      "text/plain": [
       "<Figure size 432x288 with 1 Axes>"
      ]
     },
     "metadata": {},
     "output_type": "display_data"
    }
   ],
   "source": [
    "import matplotlib.pyplot as plt\n",
    "%matplotlib inline\n",
    "\n",
    "x = np.linspace(-2.5, 2.55, 1000)\n",
    "f = x**2+np.sin(x)\n",
    "\n",
    "plt.plot(x, f, linewidth = 2)\n",
    "plt.plot(x, np.zeros((1000,)), '--')\n",
    "plt.xlabel('x', fontsize = 16)\n",
    "plt.ylabel('f(x)', fontsize = 16)\n",
    "plt.xticks(fontsize = 14)\n",
    "plt.yticks(fontsize =14)\n",
    "plt.title('Plot of f(x) Showing Two Roots', fontsize = 18)"
   ]
  },
  {
   "cell_type": "code",
   "execution_count": 10,
   "metadata": {},
   "outputs": [
    {
     "name": "stdout",
     "output_type": "stream",
     "text": [
      "Root found at: 1.2094714295298077e-11\n"
     ]
    }
   ],
   "source": [
    "#implementation of Newton's method using AD20, without hardcoding the derivative\n",
    "\n",
    "#function that we wish to find the roots of\n",
    "def f(x):\n",
    "    return x**2+ADmath.sin(x)\n",
    "\n",
    "#Newton's method\n",
    "x = ADnum(1, der = 1) #set an initial guess for the root\n",
    "\n",
    "for i in range(1000):\n",
    "    dx = -f(x).val/f(x).der #get change using ADnum attributes\n",
    "    if np.abs(dx) < .000001: #check if within some tolerance\n",
    "        print('Root found at: ' + str(x.val))\n",
    "        break\n",
    "    x = x+dx #update the guess\n",
    "\n"
   ]
  },
  {
   "cell_type": "markdown",
   "metadata": {},
   "source": [
    "In the above, we found the root at zero.  Using a different initialization point, we can find the other root of the function."
   ]
  },
  {
   "cell_type": "code",
   "execution_count": 11,
   "metadata": {},
   "outputs": [
    {
     "name": "stdout",
     "output_type": "stream",
     "text": [
      "Root found at: -0.8767262984818225\n"
     ]
    }
   ],
   "source": [
    "y = ADnum(-1, der = 1) #set an initial guess for the root\n",
    "\n",
    "for i in range(1000):\n",
    "    dy = -f(y).val/f(y).der #get change using ADnum attributes\n",
    "    if np.abs(dy) < .000001: #check if within some tolerance\n",
    "        print('Root found at: ' + str(y.val))\n",
    "        break\n",
    "    y = y+dy #update the guess"
   ]
  },
  {
   "cell_type": "markdown",
   "metadata": {},
   "source": [
    "## 3.6 Functions of Multiple Inputs, Functions of Vector Valued Inputs, and Vector Valued Functions\n",
    "\n",
    "\n",
    "### Functions of Multiple Variables\n",
    "In case case with a function with more than one variable, the sequence is similar except when creating ADnum objects, the user must specify the total number of input variables, and the index of each variable in the gradient (so the the constructor of the ADnum class can correctly assign the derivative of the input variable with the appropriate seed vector):\n",
    "#### 1. initialize each variable to a specific value where the function should be evaluated\n",
    "-In addition to the value, the user must provide the number of inputs using the keyword argument `ins` and the index of the input variable being created using the keyword argument `ind`\n",
    "\n",
    "#### 2. return the gradient as a numpy array when `f.der` is called  \n",
    "-The gradient will be a numpy array, where `f.der[ind]` gives the partial derivative of f with respect to the variable created with the specified index `ind`."
   ]
  },
  {
   "cell_type": "code",
   "execution_count": 18,
   "metadata": {},
   "outputs": [
    {
     "name": "stdout",
     "output_type": "stream",
     "text": [
      "78.0\n",
      "[36. 54.]\n",
      "2.0\n",
      "[1. 0.]\n",
      "3.0\n",
      "[0. 1.]\n"
     ]
    }
   ],
   "source": [
    "# scalar function, multi variables\n",
    "x = ADnum(2, ins = 2, ind = 0)\n",
    "y = ADnum(3, ins = 2, ind = 1)\n",
    "f = 3 * x**3 + 2 * y**3\n",
    "print(f.val)\n",
    "print(f.der)\n",
    "print(x.val)\n",
    "print(x.der)\n",
    "print(y.val)\n",
    "print(y.der)"
   ]
  },
  {
   "cell_type": "markdown",
   "metadata": {},
   "source": [
    "### Vector-valued Functions\n",
    "Each component of a vector valued function is just a scalar valued function of one or more input variables.  Thus, we can easily combine the previous results to get the Jacobian of a vector valued function.  "
   ]
  },
  {
   "cell_type": "code",
   "execution_count": 19,
   "metadata": {},
   "outputs": [
    {
     "name": "stdout",
     "output_type": "stream",
     "text": [
      "4.0\n",
      "[4. 0.]\n",
      "5.0\n",
      "[1. 1.]\n",
      "12.0\n",
      "[0. 4.]\n"
     ]
    }
   ],
   "source": [
    "x = ADnum(2, ins = 2, ind = 0)\n",
    "y = ADnum(3, ins = 2, ind = 1)\n",
    "F = [x**2, x+y, 4*y] #define a vector valued function\n",
    "\n",
    "print(F[0].val)\n",
    "print(F[0].der) #derivative of the first component of F with respect to x and y\n",
    "print(F[1].val)\n",
    "print(F[1].der)\n",
    "print(F[2].val)\n",
    "print(F[2].der)\n"
   ]
  },
  {
   "cell_type": "markdown",
   "metadata": {},
   "source": [
    "### Functions of Vector Inputs\n",
    "For functions which take vectors as inputs, we can also define ADnum objects but by assigning the value as a list."
   ]
  },
  {
   "cell_type": "code",
   "execution_count": 20,
   "metadata": {},
   "outputs": [
    {
     "name": "stdout",
     "output_type": "stream",
     "text": [
      "[ 5.71828183 13.3890561  29.08553692]\n",
      "[ 5.71828183 10.3890561  23.08553692]\n",
      "[1. 2. 3.]\n",
      "[1. 1. 1.]\n"
     ]
    }
   ],
   "source": [
    "#function of a single vector\n",
    "X = ADnum([1, 2, 3], ins = 1, ind = 0)\n",
    "f = 3*X + ADmath.exp(X)\n",
    "\n",
    "print(f.val)\n",
    "print(f.der)\n",
    "print(X.val)\n",
    "print(X.der)"
   ]
  },
  {
   "cell_type": "code",
   "execution_count": 21,
   "metadata": {},
   "outputs": [
    {
     "name": "stdout",
     "output_type": "stream",
     "text": [
      "[5. 7. 7.]\n",
      "[[1. 1. 1.]\n",
      " [1. 1. 1.]]\n",
      "[1. 2. 1.]\n",
      "[[1. 1. 1.]\n",
      " [0. 0. 0.]]\n",
      "[4. 5. 6.]\n",
      "[[0. 0. 0.]\n",
      " [1. 1. 1.]]\n"
     ]
    }
   ],
   "source": [
    "#function of multiple vector inputs\n",
    "X = ADnum([1, 2, 1], ins = 2, ind = 0)\n",
    "Y = ADnum([4, 5, 6], ins =2, ind = 1)\n",
    "G = X + Y\n",
    "\n",
    "print(G.val)\n",
    "print(G.der)\n",
    "print(X.val)\n",
    "print(X.der)\n",
    "print(Y.val)\n",
    "print(Y.der)"
   ]
  },
  {
   "cell_type": "markdown",
   "metadata": {},
   "source": [
    "# 4. Software Organization\n",
    "We would like to let the user use all numerical operations defined in our AD20 package. The AD20 package contains the `ADnum` module, the `ADmath` module, and the `ADgraph` module.\n",
    "\n",
    "For either a scalar or vector input (either as a numpy array or a list), we will convert the input into an `ADnum` object, which can interact with the other modules. `ADnum` will also contain an overloaded version of basic operations, including addition, subtraction, multiplication, division, and exponentiation, so that the value and derivative are correctly updated after combining ADnum objects through each of these operations.\n",
    "\n",
    "For special functions, we will use `ADmath` to compute the numerical values and the corresponding derivatives. In particular, `ADmath` will contain functions abs, exp, log, sin, cos, and tan.\n",
    "\n",
    "To show a calculation graph, we use `ADgraph` to show the forward mode calculation process.\n",
    "\n",
    "###  4.1 Directory Structure\n",
    "    AD20/\n",
    "        LICENSE\n",
    "        README.md\n",
    "        AD20/\n",
    "            __init__.py\n",
    "            ADnum.py\n",
    "            ADmath.py\n",
    "            ADgraph.py\n",
    "        Tests/\n",
    "            __init__.py\n",
    "            test_AD20.py\n",
    "    docs/\n",
    "        Milestone 1.ipynb\n",
    "        Milestone 2.ipynb\n",
    "        Documentation.ipynb\n",
    "        Final Presentation.ipynb\n",
    "        figs/\n",
    "    README.md\n",
    "    setup.cfg\n",
    "    requirements.txt\n",
    "    LICENSE\n",
    "\n",
    "###  4.2 Modules and Functionality\n",
    "Our package consists of three main modules:\n",
    "\n",
    "- **ADnum:** Contains the `ADnum` class (fully described below).  Create `ADnum` objects, which (inspired by the dual numbers) are defined by the attributes of a value and a derivative, from numbers or tuples.  Define all of the numerical operations for `ADnum` objects, so that they correctly track all derivatives.\n",
    "\n",
    "- **ADmath:** Define elementary functions for `ADnum` objects, correctly tracking all of the derivatives.\n",
    "\n",
    "and in future implementation,\n",
    "\n",
    "- **ADgraph:** Set of tools for function visualization, which can be used to show a plot of the function and its derivative or the computation process in either a graph or table\n",
    "\n",
    "These visualization tools allow us to create a Graphic User Interface as a pedagogical tool to help students better understand how the analytic results of our package can be attained by decomposing a function into a combination of elementary operations.\n",
    "\n",
    "###  4.3 Testing and Coverage\n",
    "All tests are contained in the test_AD20.py file in the tests directory (see the repo structure above).  We use pytest to perform our testing, using `TravisCI` and `Coveralls` for continuous integration and verifying code coverage respectively.  The test suite contains unit tests for all of the class methods implemented in `ADnum` and all the elementary functions implemented in `ADmath` as well as tests of the functionality of `ADgraph`.  This suite also contains several functions which are composed of several different operations and elementary functions for more advanced testing.\n",
    "\n",
    "[![Build Status](https://travis-ci.org/CS207-AD20/cs207-FinalProject.svg?branch=master)](https://travis-ci.org/CS207-AD20/cs207-FinalProject.svg?branch=master)\n",
    "\n",
    "[![Coverage Status](https://coveralls.io/repos/github/CS207-AD20/cs207-FinalProject/badge.svg?branch=master)](https://coveralls.io/github/CS207-AD20/cs207-FinalProject?branch=master)\n",
    "\n",
    "###  4.4 Package Distribution\n",
    "As described above, `PIP` in `PyPi` can be used to distribute our package. This will allow the user to install the package by using the command\n",
    "\n",
    "    pip install AD20\n",
    "  "
   ]
  },
  {
   "cell_type": "markdown",
   "metadata": {},
   "source": [
    "# 5. Implementation\n",
    "Automatic differentiation is implemented through the use of `ADnum` objects and building the functions for which we want to take derivatives from these `ADnum` objects as well as the special elementary functions defined for `ADnum` objects in the `ADmath` module.  Each of these functions is itself an `ADnum` object so has an associated value and derivative which was updated when constructing the `ADnum` object through basic operations and elementary functions.\n",
    "\n",
    "### 5.1 Core Data Structures\n",
    "`ADnum` objects can be thought of as a tuple, where the first entry is the value and the second entry is the derivative.  Each of these attributes is either a scalar or a numpy array for ease of computation.  In the case of scalar input, the derivative is also a scalar.  For vector valued input, the derivative is the gradient of the function, stored as a numpy array.\n",
    "\n",
    "In order to build and store computational graphs in the ADgraph module, we will use a dictionary to represent the graph, where the keys are the nodes of the graph, stored as `ADnum` objects, and the values associated with each key are the children of that node, stored as lists of tuples of the form (ADnum object, string), where the string describes the function that forms the edge for each node.\n",
    "\n",
    "### 5.2 Implemented Classes, Methods, and Attributes\n",
    "The main class is the `ADnum` module, which is used to create `ADnum` objects.  It takes as input a single scalar input or a vector input (as a numpy array) and outputs an `ADnum` object.  The `ADnum` objects store the current value of the function and its derivative as attributes. \n",
    "\n",
    "These two attributes represent the two major functionalities desired of the class.  The `val` attribute is the ADnum object evaluated at the given value and the `der` attribute is its derivative at the given value. \n",
    "\n",
    "In addition to these basic attributes, ADnum objects also have a `constant` attribute, which is set to 0 or 1 depending on whether the object is a constant or variable.  This distinction is used in making computational graphs and tables, which also rely on the `graph` attribute.  This attribute is a dictionary containing key-value pairs of ADnum objects and lists of the ADnum objects that were combined to build the ADnum object (essentially using a dictionary to store a graph of nodes and edges). \n",
    "\n",
    "The constructor for this class, using variable keyword arguments to set the value and derivative appropriately,\n",
    "\n",
    "```python\n",
    "#ADnum.py\n",
    "class ADnum:\n",
    "    \"\"\" Class to create ADnum objects on which to perform differentiation.\n",
    "    ATTRIBUTES\n",
    "    ==========\n",
    "    val : scalar for scalar valued quantities or numpy array for vector valued functions, the value of the ADnum object for a set input value\n",
    "    der : scalar for sclar functions of a single variable or numpy array for functions of multiple variables the derivative \n",
    "    graph : dictionary containing the edges of the computational graph\n",
    "    constant : 0 or 1 indicating whether the ADnum object is constant\n",
    "    METHODS\n",
    "    =======\n",
    "    This class overloads the methods for basic arithmetic operations.\n",
    "    EXAMPLES\n",
    "    ========\n",
    "    # >>> x = ADnum(2, der = 1)\n",
    "    # >>> f = 2*x+3\n",
    "    # >>> print(f.val)\n",
    "    # 7.0\n",
    "    # >>> print(f.der)\n",
    "    # 2.0\n",
    "    \"\"\"\n",
    "    def __init__(self, value, **kwargs):\n",
    "        try:\n",
    "            scalarinput = (isinstance(value, int) or isinstance(value, float))\n",
    "            value = np.array(value)\n",
    "            value = value.astype(float)\n",
    "            if 'der' not in kwargs:\n",
    "                try:\n",
    "                    ins = kwargs['ins']\n",
    "                    ind = kwargs['ind']\n",
    "                    if scalarinput:\n",
    "                        der = np.zeros(ins)\n",
    "                        der[ind] = 1.0\n",
    "                    else:\n",
    "                        if ins>1:\n",
    "                            der = np.zeros((ins, len(value)))\n",
    "                            der[ind, :] = 1.0 #np.ones(len(value))\n",
    "                        else:\n",
    "                            der = np.ones(len(value))\n",
    "                except:\n",
    "                    raise KeyError('Must provide ins and ind if der not provided.')\n",
    "            else:\n",
    "                der = kwargs['der']\n",
    "                der = np.array(der)\n",
    "                der = der.astype(float)\n",
    "                if 'ins' in kwargs:\n",
    "                    ins = kwargs['ins']\n",
    "                    if len(der) != ins:\n",
    "                        raise ValueError('Shape of derivative does not match number of inputs.')\n",
    "        except:\n",
    "            raise ValueError('Value and derivative of ADnum object must be numeric.')\n",
    "        self.val = value\n",
    "        self.der = der\n",
    "        if 'graph' not in kwargs:\n",
    "            self.graph = {}\n",
    "        else:\n",
    "            self.graph = kwargs['graph']\n",
    "        if 'constant' not in kwargs:\n",
    "            self.constant = 0\n",
    "        else:\n",
    "            self.constant = kwargs['constant']\n",
    "```\n",
    "\n",
    "The `ADnum` class also includes methods to overload basic operations, __neg__(), __add__(), __radd__(), __mul__(), __rmul__(), __sub__(), __rsub__(), __truediv__(), __rtruediv__(), __pow__(), and __rpow__().  \n",
    "\n",
    "Note that we have chosen not to overload the comparison operators as we must maintain that the ADnum objects are hashable to be used in the `graph` dictionary.\n",
    "\n",
    "The result of overloading is that the adding, subtracting, multiplying, dividing, or exponentiating two `ADnum` objects returns an `ADnum` object as well as addition or multiplication by a constant.  For example, Y1, Y2, and Y3 are all recognized as `ADnum` objects:\n",
    "\n",
    "```python\n",
    "    X1= ADnum(7, der = 1)\n",
    "    X2 = ADnum(15, der = 1)\n",
    "    Y1 = X1 + X2\n",
    "    Y2 = X1 * X2 + X1\n",
    "    Y3 = 5 * X1 + X2 + 100\n",
    "```\n",
    "\n",
    "The resulting ADnum objects have both a value and derivative.  An example overloaded function is the following:\n",
    "\n",
    "\n",
    "```python\n",
    "#ADnum.py\n",
    "    def __mul__(self,other):\n",
    "        try:\n",
    "            graph = merge_dicts(self.graph, other.graph)\n",
    "            y = ADnum(self.val*other.val, der = self.val*other.der+self.der*other.val)\n",
    "            y.graph = graph\n",
    "            if self not in y.graph:\n",
    "                y.graph[self] = []\n",
    "            y.graph[self].append((y, 'multiply'))\n",
    "            if other not in y.graph:\n",
    "                y.graph[other] = []\n",
    "            y.graph[other].append((y, 'multiply'))\n",
    "            return y\n",
    "        except AttributeError:\n",
    "            other = ADnum(other*np.ones(np.shape(self.val)), der = np.zeros(np.shape(self.der)), constant = 1)\n",
    "            return self*other\n",
    "```\n",
    "\n",
    "By combining simple `ADnum` objects with basic operations and simple functions, we can construct any function we like.\n",
    "\n",
    "```python\n",
    "    X = ADnum(4, der = 1)\n",
    "    F = X + ADmath.sin(4 - X)\n",
    "```    \n",
    "Where F is now an `ADnum` object, and ADmath.sin() is a specially defined sine function which takes as input an `ADnum` object and returns an `ADnum` object, which allows us to evaluate F and its derivative,\n",
    "\n",
    "```python\n",
    "    F.val = 4\n",
    "    F.der = 0\n",
    "    X.val = 4\n",
    "    X.der = 1\n",
    "```\n",
    "\n",
    "In addition to the sine function used in the example above, the `ADmath` module also implements the trigonometric functions: `sin()`, `cos()`, `tan()`, `csc()`, `sec()`, `cot()`, the inverse trigonometric functions: `arcsin()`, `arccos()`, `arctan()`, the hyperbolic trig functions: `sinh()`, `cosh()`, `tanh()`, and the natural exponential `exp()` and natural logarithm `log()`.  All of the functions defined in the `ADmath` module define elementary functions of `ADnum` objects, so that the output is also an `ADnum` object with the val and deriv attributes updated appropriately.  For example,\n",
    "\n",
    "```python\n",
    "#ADmath.py\n",
    "def sin(X):\n",
    "    try:\n",
    "        y = ADnum(np.sin(X.val), der = np.cos(X.val)*X.der)\n",
    "        y.graph = X.graph\n",
    "        if X not in y.graph:\n",
    "            y.graph[X] = []\n",
    "        y.graph[X].append((y, 'sin'))\n",
    "        return y\n",
    "    except AttributeError:\n",
    "        return np.sin(X)\n",
    "```\n",
    "\n",
    "We also implement a module `ADgraph`, for visualization of ADnum objects and the corresponding computational graphs and tables.  This class operates on ADnum objects by using the graph attribute.  The main methods are `plot_ADnum` which generates a plot of a function and its derivative (found using automatic differentiation), `draw_graph` which draws the computational graph used to compute the derivative, and `gen_table` which generates a table corresponding to the graph including the traces and values and derivatives of each trace.  The function `gen_graph` produces a `networkx` object from the dictionary stored in the `graph` attribute of the `ADnum` object, used for visualization.  We also use the method `reverse_graph` so that we have the ability to map nodes both to and from their parents.  This module also contains a number of utility functions for producing the graph (`get_labels`, `get_colors`, `get_sizes`).\n",
    "\n",
    "### 5.3 External Dependencies\n",
    "In order to implement the elementary functions, our `ADmath` relies on `numpy`’s implementation of the trigonometric functions, exponential functions, and natural logarithms for evaluation of these special functions, as demonstrated in the definition of the sine function for `ADnum` objects above.\n",
    "\n",
    "For graph and GUI creation, we used `matplotlib`, `networkx`, `pandas`, and `tk` libraries. NetworkX is a Python package for the creation, manipulation, and study of the structure, dynamics, and functions of complex networks. Pandas is used for creating the computational tables.  TK is Python's de-facto standard GUI (Graphical User Interface) package. \n",
    "\n",
    "### 5.4 Elementary Functions\n",
    "As outlined above, all elementary operations are defined for `ADnum` objects within the `ADnum` class and we have a special `ADmath` module which defines the trigonometric, exponential, and logarithmic functions to be used on `ADnum` objects, so that they both take as input and return an `ADnum` object, completing the set of defintions of all elementary operations and functions that can be composed to construct more complex functions."
   ]
  },
  {
   "cell_type": "markdown",
   "metadata": {},
   "source": [
    "## 6. Project Extension\n",
    "\n",
    "For our project extension, we chose to create a pedagogical tool that can be used to help visualize the computational process that is used when combining different elementary operations and functions to compose more complicated functions and calculate the derivatives of these functions.   Such a tool could be useful in the classroom for teaching students how automatic differentiation works.\n",
    "\n",
    "### 6.1 Plots and Computational Graphs and Tables\n",
    "The module `ADgraph` contains visualization tools for `ADnum` objects. For every operation we create an additional ADnum object which becomes a node in our graph, representing another trace in the program, where the edge labels display the corresponding operation.  Correspondingly, we also develop the functionality to display a table showing the trace, elementary operation, value, and derivative at each step. \n",
    "\n",
    "Beyond the basic functionality of forward mode, this required modifying all of our methods to correctly add to the dictionary which contains the computational graph information for each operation that we have previously overloaded in addition to the functions for visualizing.\n",
    "\n",
    "The following expamples demonstrate each of the three main visualization tools and describe how to use them.\n",
    "\n",
    "#### Plotting a Scalar Function of a Scalar Input\n",
    "The function `plot_ADnum` takes a function as input and uses our automatic differentiation package to make a plot of values and derivatives.  The function should take an `AD_num` object as input and so any special functions it contains should be defined using the `ADmath` module.  The user can optionally specify the range of inputs over which to plot the function."
   ]
  },
  {
   "cell_type": "code",
   "execution_count": 26,
   "metadata": {},
   "outputs": [
    {
     "data": {
      "image/png": "[encoded data removed]",
      "text/plain": [
       "<Figure size 432x288 with 1 Axes>"
      ]
     },
     "metadata": {},
     "output_type": "display_data"
    }
   ],
   "source": [
    "def f(x):\n",
    "    return 5*x**3+ADmath.sin(x)\n",
    "\n",
    "fig = ADgraph.plot_ADnum(f, xmin=0, xmax = 10)"
   ]
  },
  {
   "cell_type": "markdown",
   "metadata": {},
   "source": [
    "#### Visualizing Computational Graphs\n",
    "The function `draw_graph` takes an `ADnum` object as input and outputs a plot of the computational graph.  The graph is color coded to help the user better interpret the graph (magenta nodes represent the input variables, a green node represents the output, red nodes are used for intermediate traces, and blue nodes represent constants).  Each edge is labelled according to the elementary operation that connects the nodes."
   ]
  },
  {
   "cell_type": "code",
   "execution_count": 28,
   "metadata": {},
   "outputs": [
    {
     "data": {
      "image/png": "[encoded data removed]",
      "text/plain": [
       "<Figure size 432x288 with 1 Axes>"
      ]
     },
     "metadata": {},
     "output_type": "display_data"
    }
   ],
   "source": [
    "y = ADnum(2, der = 1)\n",
    "fig2 = ADgraph.draw_graph(f(y))"
   ]
  },
  {
   "cell_type": "markdown",
   "metadata": {},
   "source": [
    "The computational graph can be used for single or multiple inputs.  We can compare the following computer generated graph to the hand produced graph in section 2.2."
   ]
  },
  {
   "cell_type": "code",
   "execution_count": 31,
   "metadata": {},
   "outputs": [
    {
     "data": {
      "image/png": "[encoded data removed]",
      "text/plain": [
       "<Figure size 432x288 with 1 Axes>"
      ]
     },
     "metadata": {},
     "output_type": "display_data"
    }
   ],
   "source": [
    "x = ADnum(1, ins =2, ind =0)\n",
    "y = ADnum(np.pi/5, ins = 2, ind = 1)\n",
    "f = x**3+ADmath.sin(5*y)\n",
    "\n",
    "fig3 = ADgraph.draw_graph(f)"
   ]
  },
  {
   "cell_type": "markdown",
   "metadata": {},
   "source": [
    "#### Generate the Corresponding Computational Table\n",
    "The function `gen_table` takes an `ADnum` object as input and outputs a table of the computational traces.  Labels correspond to the graph that was generated to improve the connection between the numeric computations and visual connections.  As with the computational graph, this can be used for functions of single or multiple variables. "
   ]
  },
  {
   "cell_type": "code",
   "execution_count": 33,
   "metadata": {},
   "outputs": [
    {
     "data": {
      "text/html": [
       "<div>\n",
       "<style scoped>\n",
       "    .dataframe tbody tr th:only-of-type {\n",
       "        vertical-align: middle;\n",
       "    }\n",
       "\n",
       "    .dataframe tbody tr th {\n",
       "        vertical-align: top;\n",
       "    }\n",
       "\n",
       "    .dataframe thead th {\n",
       "        text-align: right;\n",
       "    }\n",
       "</style>\n",
       "<table border=\"1\" class=\"dataframe\">\n",
       "  <thead>\n",
       "    <tr style=\"text-align: right;\">\n",
       "      <th></th>\n",
       "      <th>Trace</th>\n",
       "      <th>Operation</th>\n",
       "      <th>Value</th>\n",
       "      <th>Derivative</th>\n",
       "    </tr>\n",
       "  </thead>\n",
       "  <tbody>\n",
       "    <tr>\n",
       "      <th>5</th>\n",
       "      <td>X0</td>\n",
       "      <td>input</td>\n",
       "      <td>1.0</td>\n",
       "      <td>[1.0, 0.0]</td>\n",
       "    </tr>\n",
       "    <tr>\n",
       "      <th>4</th>\n",
       "      <td>X1</td>\n",
       "      <td>pow(X0 , 3.0)</td>\n",
       "      <td>1.0</td>\n",
       "      <td>[3.0, 0.0]</td>\n",
       "    </tr>\n",
       "    <tr>\n",
       "      <th>3</th>\n",
       "      <td>X2</td>\n",
       "      <td>input</td>\n",
       "      <td>0.6283185307179586</td>\n",
       "      <td>[0.0, 1.0]</td>\n",
       "    </tr>\n",
       "    <tr>\n",
       "      <th>2</th>\n",
       "      <td>X3</td>\n",
       "      <td>multiply(X2 , 5.0)</td>\n",
       "      <td>3.141592653589793</td>\n",
       "      <td>[0.0, 5.0]</td>\n",
       "    </tr>\n",
       "    <tr>\n",
       "      <th>1</th>\n",
       "      <td>X4</td>\n",
       "      <td>sin(X3)</td>\n",
       "      <td>1.2246467991473532e-16</td>\n",
       "      <td>[-0.0, -5.0]</td>\n",
       "    </tr>\n",
       "    <tr>\n",
       "      <th>0</th>\n",
       "      <td>X5</td>\n",
       "      <td>add(X1 , X4)</td>\n",
       "      <td>1.0000000000000002</td>\n",
       "      <td>[3.0, -5.0]</td>\n",
       "    </tr>\n",
       "  </tbody>\n",
       "</table>\n",
       "</div>"
      ],
      "text/plain": [
       "  Trace           Operation                   Value    Derivative\n",
       "5    X0               input                     1.0    [1.0, 0.0]\n",
       "4    X1       pow(X0 , 3.0)                     1.0    [3.0, 0.0]\n",
       "3    X2               input      0.6283185307179586    [0.0, 1.0]\n",
       "2    X3  multiply(X2 , 5.0)       3.141592653589793    [0.0, 5.0]\n",
       "1    X4             sin(X3)  1.2246467991473532e-16  [-0.0, -5.0]\n",
       "0    X5        add(X1 , X4)      1.0000000000000002   [3.0, -5.0]"
      ]
     },
     "execution_count": 33,
     "metadata": {},
     "output_type": "execute_result"
    }
   ],
   "source": [
    "ADgraph.gen_table(f)"
   ]
  },
  {
   "cell_type": "markdown",
   "metadata": {
    "collapsed": true
   },
   "source": [
    "### 6.2 Graphical User Interface"
   ]
  },
  {
   "attachments": {},
   "cell_type": "markdown",
   "metadata": {},
   "source": [
    "In order to develop a tool that can be deployed in the classroom, we combine the analytic functionality of our package with the visual functionality of the ADgraph.py module in a single GUI.\n",
    "\n",
    "#### Installing\n",
    "The files can be downloaded from the github repository using:\n",
    "\n",
    "    git clone https://github.com/CS207-AD20/AD20_GUI.git\n",
    "    \n",
    "Note that we chose to use a separate github repository for the GUI to avoid conflicting with the tests of the main package, but a jupyter notebook version of the GUI is contained in the GUI directory of the cs207-FinalProject repo as well.\n",
    "    \n",
    "This repository contains the driver script for the GUI, AD20_GUI.py, built using tkinter, as well as a modified set of visualization functions, ADgraph_GUI.py, which contain the same basic functions as described in ADgraph.py but modified so that they can be displayed to the GUI.  For this reason, this implementation differs slightly from the main package where to display the plots and graphs requires slight differences in the code.\n",
    "\n",
    "The user should first install AD20 as described above and then can run the AD20_GUI.py script to launch the GUI, from the command line:\n",
    "    \n",
    "    python AD20_GUI.py\n",
    "\n",
    "#### User Interaction\n",
    "In the first screen, following the instructions (accessed via the instructions button) the user uses the calculator display to define a function of a single variable, X (colored magenta to correspond to the input color in the generated graph).  This GUI includes the elementary operations and some elementary functions (more could be added in future extensions).\n",
    "\n",
    "![firstscreen](figs/screen1.png)\n",
    "\n",
    "If the user inputs all constant values, the first screen operates as a calculator and displays the corresponding value,\n",
    "\n",
    "![consscreen](figs/ConstantResult.png)\n",
    "\n",
    "Otherwise, the program converts the user input to a function, and directs the user to a second screen where the user can visualize and evaluate the function.\n",
    "\n",
    "![secondscreen](figs/screen2.png)\n",
    "\n",
    "By inputting different values for x, the user can evaluate the function and derivative at the input value.\n",
    "\n",
    "![evalscreen](figs/eval.png)\n",
    "\n",
    "By clicking the corresponding buttons, the user can then generate a plot, computational table, and computational graph.\n",
    "\n",
    "![fullscreen](figs/fulloutput.png)\n",
    "\n",
    "Note that the user is also able to save any of the plots and graphs in these windows.  By comparing the labels in the table to the graph and the original function, the user is able to see the connection between decomposition into elementary functions and the ability to perform automatic differentiation."
   ]
  },
  {
   "cell_type": "markdown",
   "metadata": {
    "collapsed": true
   },
   "source": [
    "### 6.3 Future Work\n",
    "\n",
    "Our forward mode implementation provides the necessary tools to apply automatic differentiation to many different applications.  Above, we showed that our package can easily be extended to Newton's method.  Thus, one natural extension would be to develop a package that implements different gradient based optimization techniques.\n",
    "\n",
    "Our current implementation only uses forward mode, but for many applications (e.g., backpropagation in neural nets), backward mode is also desirable.  The ability to trace computations using our ADgraph module provides a natural possible starting point.\n",
    "\n",
    "There are also opportunities to extend the work that has been done on graph visualization.  While the computational graph and table can be generated for single or multiple inputs of single or vector valued functions, plotting is only capable for scalar functions of scalar inputs so a surface plot method could be developed.  Furthermore, the GUI currently only allows for scalar functions of scalar variables, and the ability to extend this tool to multiple inputs would be valuable for classroom understanding."
   ]
  },
  {
   "cell_type": "code",
   "execution_count": null,
   "metadata": {
    "collapsed": true
   },
   "outputs": [],
   "source": []
  }
 ],
 "metadata": {
  "kernelspec": {
   "display_name": "Python 3",
   "language": "python",
   "name": "python3"
  },
  "language_info": {
   "codemirror_mode": {
    "name": "ipython",
    "version": 3
   },
   "file_extension": ".py",
   "mimetype": "text/x-python",
   "name": "python",
   "nbconvert_exporter": "python",
   "pygments_lexer": "ipython3",
   "version": "3.6.6"
  }
 },
 "nbformat": 4,
 "nbformat_minor": 2
}
