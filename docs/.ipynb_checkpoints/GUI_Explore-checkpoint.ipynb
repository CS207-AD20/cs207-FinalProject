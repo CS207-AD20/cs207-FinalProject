{
 "cells": [
  {
   "cell_type": "code",
   "execution_count": 3,
   "metadata": {},
   "outputs": [
    {
     "name": "stdout",
     "output_type": "stream",
     "text": [
      "/Users/xinyuecynthiawang/Desktop/cs207/cs207-FinalProject\n",
      "/Users/xinyuecynthiawang/Desktop/cs207/cs207-FinalProject/AD20\n"
     ]
    }
   ],
   "source": [
    "%cd ..\n",
    "%cd AD20"
   ]
  },
  {
   "cell_type": "code",
   "execution_count": 4,
   "metadata": {},
   "outputs": [],
   "source": [
    "import AD20\n",
    "import numpy as np\n",
    "from AD20.ADnum_multivar import ADnum\n",
    "from AD20 import ADmath_multivar as ADmath"
   ]
  },
  {
   "cell_type": "code",
   "execution_count": 6,
   "metadata": {},
   "outputs": [
    {
     "name": "stdout",
     "output_type": "stream",
     "text": [
      "Okay, we get the value of \n"
     ]
    }
   ],
   "source": [
    "\n",
    "# import PIL.Image\n",
    "# import PIL.ImageTk\n",
    "import tkinter as tk\n",
    "from tkinter import messagebox\n",
    "top = tk.Tk()\n",
    "\n",
    "###Basic setup============================\n",
    "top.title(\"AutoDiff Calculator\")\n",
    "top.geometry(\"500x500\")\n",
    "def startEngine():\n",
    "    text = \"Please press the function button to enter the function you want to calculate, this calculator allows 1 or 2 variables\"\n",
    "    messagebox.showinfo(\"Welcome to AutoDiff Education Mode\",text)\n",
    "\n",
    "def versionInfo():\n",
    "    messagebox.showinfo(\"Welcome to AutoDiff Education Mode\",\"AD20 version 1.0\")\n",
    "\n",
    "button_start = tk.Button(top, text = \"Instruction\", command = startEngine)\n",
    "\n",
    "button_start.pack()\n",
    "\n",
    "button_version = tk.Button(top, text = \"Check Version\", command = versionInfo)\n",
    "button_version.pack()\n",
    "\n",
    "my_canvas = tk.Canvas(top, bg = \"gray\", height= 120, width= 400)\n",
    "\n",
    "#main_bg = tk.PhotoImage( file = \"background_3.gif\")\n",
    "\n",
    "#image = my_canvas.create_image(160,60,anchor = \"center\",image = main_bg)\n",
    "my_canvas.pack()\n",
    "###=========\n",
    "\n",
    "\n",
    "ask_numbers = tk.Label(top, text = \"How many values:\")\n",
    "value0 = tk.Entry(top, bd = 1)\n",
    "res = value0.get()\n",
    "\n",
    "\n",
    "# ask_value = tk.Label(top, text = \"Number Value:\")\n",
    "# value1 = tk.Entry(top, bd = 5)\n",
    "\n",
    "\n",
    "# ask_numbers.grid(row = 0, column =0)\n",
    "# value0.grid(row =0, column = 1)\n",
    "\n",
    "# ask_value.grid(row =1, column = 0)\n",
    "# value1.grid(row =1, column =1)\n",
    "\n",
    "ask_numbers.pack(side = 'left')\n",
    "# value0.pack(side = 'right')\n",
    "# ask_value.pack(side = 'left')\n",
    "# value1.pack(side = 'right')\n",
    "\n",
    "\n",
    "\n",
    "def get_value():\n",
    "    val = value0.get()\n",
    "    message = \"You are going to use {} numbers.\".format(val)\n",
    "    messagebox.showinfo(\"Welcome to AutoDiff Education Mode\", message)\n",
    "def calc():\n",
    "    messagebox.showinfo(\"This is a function\", \"X + X is 2X\")\n",
    "# try more buttons:\n",
    "frame = tk.Frame(top)\n",
    "frame.pack(side = 'left')\n",
    "button_add = tk.Button(frame, text = '+', command = calc) # can add command\n",
    "button_add.pack(side = 'top')\n",
    "button_2 = tk.Button(frame, text = 'derivative')\n",
    "# button_2.pack(side = 'bottom')\n",
    "button_3 = tk.Button(frame, text = 'Confirm',command = get_value )\n",
    "# button_3.pack(side = 'top')\n",
    "\n",
    "top.mainloop()\n",
    "print(\"Okay, we get the value of {}\".format(res))\n"
   ]
  }
 ],
 "metadata": {
  "kernelspec": {
   "display_name": "Python 3",
   "language": "python",
   "name": "python3"
  },
  "language_info": {
   "codemirror_mode": {
    "name": "ipython",
    "version": 3
   },
   "file_extension": ".py",
   "mimetype": "text/x-python",
   "name": "python",
   "nbconvert_exporter": "python",
   "pygments_lexer": "ipython3",
   "version": "3.6.5"
  }
 },
 "nbformat": 4,
 "nbformat_minor": 2
}
