{
 "cells": [
  {
   "cell_type": "markdown",
   "metadata": {
    "slideshow": {
     "slide_type": "slide"
    }
   },
   "source": [
    "# CS 207 Final Project\n",
    "\n",
    "## Automatic Differentiation\n",
    "\n",
    "#### Group 20: Lindsey Brown, Xinyue Wang, Kevin Yoon\n",
    "\n",
    "#### December 12, 2018\n"
   ]
  },
  {
   "cell_type": "markdown",
   "metadata": {
    "slideshow": {
     "slide_type": "subslide"
    }
   },
   "source": [
    "# Table of Contents\n",
    "\n",
    "* Background\n",
    "* Overview\n",
    "* How to Use\n",
    "* How to Install + Testing\n",
    "* Examples\n",
    "* Computational Graph, Table, Plot\n",
    "* Graphic User Interface (GUI)\n",
    "* Future Work and Extensions"
   ]
  },
  {
   "cell_type": "code",
   "execution_count": 1,
   "metadata": {
    "slideshow": {
     "slide_type": "slide"
    }
   },
   "outputs": [
    {
     "name": "stdout",
     "output_type": "stream",
     "text": [
      "/Users/jiwhanyoon/Desktop/cs207/cs207-FinalProject\n",
      "/Users/jiwhanyoon/Desktop/cs207/cs207-FinalProject/AD20\n"
     ]
    }
   ],
   "source": [
    "%cd ..\n",
    "%cd AD20\n",
    "'''\n",
    "Step 0:\n",
    "- import necessary libraries\n",
    "'''\n",
    "import AD20\n",
    "import numpy as np\n",
    "from AD20.ADnum import ADnum\n",
    "import AD20.ADmath as ADmath\n",
    "import AD20.ADgraph as ADgraph"
   ]
  },
  {
   "cell_type": "markdown",
   "metadata": {
    "slideshow": {
     "slide_type": "slide"
    }
   },
   "source": [
    "# Getting Started\n",
    "\n",
    "## Goal\n",
    "- Build a software library that can execute Automatic Differentiation\n",
    "\n",
    "## Background\n",
    "- Automatic Differentiation - computes the derivative of a function, unique for its ability to handle complex combinations of functions without sacrificing the accuracy\n",
    "- A function can be decomposed into a sequence of elementary arithmetic operations (addition, subtraction, multiplication, division, etc.) and elementary functions (exp, log, sin, cos, etc.).\n",
    "- Applications in machine learning, parameter optimization, sensitivity analysis, physical modeling, etc\n"
   ]
  },
  {
   "cell_type": "markdown",
   "metadata": {
    "slideshow": {
     "slide_type": "subslide"
    }
   },
   "source": [
    "## Application: Newton's Method\n",
    "\n",
    "One basic application of differentiation is Newton's method for finding roots of a function. For demonstration of using our package for such an application, we will consider the function\n",
    "\n",
    "$$f(x) = x^2 + \\sin(x)$$\n",
    "\n",
    "which we know has a root at $x=0$.  The plot below also shows that the function has an additional root near -1."
   ]
  },
  {
   "cell_type": "code",
   "execution_count": 2,
   "metadata": {
    "slideshow": {
     "slide_type": "subslide"
    }
   },
   "outputs": [
    {
     "data": {
      "text/plain": [
       "Text(0.5, 1.0, 'Plot of f(x) Showing Two Roots')"
      ]
     },
     "execution_count": 2,
     "metadata": {},
     "output_type": "execute_result"
    },
    {
     "data": {
      "image/png": "[encoded data removed]",
      "text/plain": [
       "<Figure size 432x288 with 1 Axes>"
      ]
     },
     "metadata": {
      "needs_background": "light"
     },
     "output_type": "display_data"
    }
   ],
   "source": [
    "import matplotlib.pyplot as plt\n",
    "import numpy as np\n",
    "%matplotlib inline\n",
    "\n",
    "x = np.linspace(-2.5, 2.55, 1000)\n",
    "f = x**2+np.sin(x)\n",
    "\n",
    "plt.plot(x, f, linewidth = 2)\n",
    "plt.plot(x, np.zeros((1000,)), '--')\n",
    "plt.xlabel('x', fontsize = 16)\n",
    "plt.ylabel('f(x)', fontsize = 16)\n",
    "plt.xticks(fontsize = 14)\n",
    "plt.yticks(fontsize =14)\n",
    "plt.title('Plot of f(x) Showing Two Roots', fontsize = 18)"
   ]
  },
  {
   "cell_type": "code",
   "execution_count": 3,
   "metadata": {
    "slideshow": {
     "slide_type": "subslide"
    }
   },
   "outputs": [
    {
     "name": "stdout",
     "output_type": "stream",
     "text": [
      "Root found at: 1.2094714295298077e-11\n"
     ]
    }
   ],
   "source": [
    "#implementation of Newton's method using AD20, without hardcoding the derivative\n",
    "\n",
    "#function that we wish to find the roots of\n",
    "def f(x):\n",
    "    return x**2+ADmath.sin(x)\n",
    "\n",
    "#Newton's method\n",
    "x = ADnum(1, der = 1) #set an initial guess for the root\n",
    "\n",
    "for i in range(1000):\n",
    "    dx = -f(x).val/f(x).der #get change using ADnum attributes\n",
    "    if np.abs(dx) < .000001: #check if within some tolerance\n",
    "        print('Root found at: ' + str(x.val))\n",
    "        break\n",
    "    x = x+dx #update the guess\n",
    "    "
   ]
  },
  {
   "cell_type": "code",
   "execution_count": 4,
   "metadata": {
    "slideshow": {
     "slide_type": "subslide"
    }
   },
   "outputs": [
    {
     "name": "stdout",
     "output_type": "stream",
     "text": [
      "Root found at: -0.8767262984818225\n"
     ]
    }
   ],
   "source": [
    "y = ADnum(-1, der = 1) #set an initial guess for the root\n",
    "\n",
    "for i in range(1000):\n",
    "    dy = -f(y).val/f(y).der #get change using ADnum attributes\n",
    "    if np.abs(dy) < .000001: #check if within some tolerance\n",
    "        print('Root found at: ' + str(y.val))\n",
    "        break\n",
    "    y = y+dy #update the guess"
   ]
  },
  {
   "cell_type": "markdown",
   "metadata": {
    "slideshow": {
     "slide_type": "subslide"
    }
   },
   "source": [
    "### Example: The Computational Graph\n",
    "Consider the example function $$f\\left(x,y\\right) = x^{3} + \\sin(5y)$$\n",
    "evaluated at $(x,y) = (1, \\frac{\\pi}{5})$."
   ]
  },
  {
   "cell_type": "markdown",
   "metadata": {
    "slideshow": {
     "slide_type": "subslide"
    }
   },
   "source": [
    "The evaluation trace can be visualized with a computational graph.\n",
    "\n",
    "![comp-graph](figs/compgraphppt.jpg)"
   ]
  },
  {
   "cell_type": "code",
   "execution_count": 5,
   "metadata": {
    "slideshow": {
     "slide_type": "fragment"
    }
   },
   "outputs": [
    {
     "data": {
      "image/png": "[encoded data removed]",
      "text/plain": [
       "<Figure size 432x288 with 1 Axes>"
      ]
     },
     "metadata": {
      "needs_background": "light"
     },
     "output_type": "display_data"
    }
   ],
   "source": [
    "x = ADnum(1, ins = 2, ind = 0)\n",
    "y = ADnum(np.pi/5 , ins = 2, ind = 1)\n",
    "\n",
    "f = x**3 + ADmath.sin(5 * y)\n",
    "\n",
    "graph = ADgraph.draw_graph(f)"
   ]
  },
  {
   "cell_type": "markdown",
   "metadata": {
    "slideshow": {
     "slide_type": "subslide"
    }
   },
   "source": [
    "The evaluation trace looks like:\n",
    "\n",
    "![comp-table](figs/comptable.jpg)"
   ]
  },
  {
   "cell_type": "code",
   "execution_count": 6,
   "metadata": {
    "slideshow": {
     "slide_type": "fragment"
    }
   },
   "outputs": [
    {
     "data": {
      "text/html": [
       "<div>\n",
       "<style scoped>\n",
       "    .dataframe tbody tr th:only-of-type {\n",
       "        vertical-align: middle;\n",
       "    }\n",
       "\n",
       "    .dataframe tbody tr th {\n",
       "        vertical-align: top;\n",
       "    }\n",
       "\n",
       "    .dataframe thead th {\n",
       "        text-align: right;\n",
       "    }\n",
       "</style>\n",
       "<table border=\"1\" class=\"dataframe\">\n",
       "  <thead>\n",
       "    <tr style=\"text-align: right;\">\n",
       "      <th></th>\n",
       "      <th>Trace</th>\n",
       "      <th>Operation</th>\n",
       "      <th>Value</th>\n",
       "      <th>Derivative</th>\n",
       "    </tr>\n",
       "  </thead>\n",
       "  <tbody>\n",
       "    <tr>\n",
       "      <th>5</th>\n",
       "      <td>X0</td>\n",
       "      <td>input</td>\n",
       "      <td>1.0</td>\n",
       "      <td>[1.0, 0.0]</td>\n",
       "    </tr>\n",
       "    <tr>\n",
       "      <th>4</th>\n",
       "      <td>X1</td>\n",
       "      <td>pow(3.0 , X0)</td>\n",
       "      <td>1.0</td>\n",
       "      <td>[3.0, 0.0]</td>\n",
       "    </tr>\n",
       "    <tr>\n",
       "      <th>3</th>\n",
       "      <td>X2</td>\n",
       "      <td>input</td>\n",
       "      <td>0.6283185307179586</td>\n",
       "      <td>[0.0, 1.0]</td>\n",
       "    </tr>\n",
       "    <tr>\n",
       "      <th>2</th>\n",
       "      <td>X3</td>\n",
       "      <td>multiply(X2 , 5.0)</td>\n",
       "      <td>3.141592653589793</td>\n",
       "      <td>[0.0, 5.0]</td>\n",
       "    </tr>\n",
       "    <tr>\n",
       "      <th>1</th>\n",
       "      <td>X4</td>\n",
       "      <td>sin(X3)</td>\n",
       "      <td>1.2246467991473532e-16</td>\n",
       "      <td>[-0.0, -5.0]</td>\n",
       "    </tr>\n",
       "    <tr>\n",
       "      <th>0</th>\n",
       "      <td>X5</td>\n",
       "      <td>add(X1 , X4)</td>\n",
       "      <td>1.0000000000000002</td>\n",
       "      <td>[3.0, -5.0]</td>\n",
       "    </tr>\n",
       "  </tbody>\n",
       "</table>\n",
       "</div>"
      ],
      "text/plain": [
       "  Trace           Operation                   Value    Derivative\n",
       "5    X0               input                     1.0    [1.0, 0.0]\n",
       "4    X1       pow(3.0 , X0)                     1.0    [3.0, 0.0]\n",
       "3    X2               input      0.6283185307179586    [0.0, 1.0]\n",
       "2    X3  multiply(X2 , 5.0)       3.141592653589793    [0.0, 5.0]\n",
       "1    X4             sin(X3)  1.2246467991473532e-16  [-0.0, -5.0]\n",
       "0    X5        add(X1 , X4)      1.0000000000000002   [3.0, -5.0]"
      ]
     },
     "execution_count": 6,
     "metadata": {},
     "output_type": "execute_result"
    }
   ],
   "source": [
    "ADgraph.gen_table(f)"
   ]
  },
  {
   "cell_type": "markdown",
   "metadata": {
    "slideshow": {
     "slide_type": "subslide"
    }
   },
   "source": [
    "## Overview\n",
    "\n",
    "`ADnum` objects represent mathematical objects for which they would like to evaluate a value or a derivative. \n",
    "\n",
    "The elementary operations and functions defined for the `ADnum` class can be composed to create any desired function - users need to create an `ADnum` object for each input variable and use all the mathematical functions defined in the `ADmath` library to implement special functions. \n",
    "\n",
    "Furthermore, use `ADgraph` to create a computational graph, plot, and table for your function. The Graphic User Interface (GUI) provides a way to visualize the computational trace table and graph.\n"
   ]
  },
  {
   "cell_type": "markdown",
   "metadata": {
    "slideshow": {
     "slide_type": "subslide"
    }
   },
   "source": [
    "### ADnum\n",
    "Creates `ADnum` objects, which are defined by the attributes of a value and a derivative, from numbers or tuples.  Define all of the numerical operations for `ADnum` objects, so that they correctly track all derivatives.\n",
    "\n",
    "### ADmath\n",
    "Implements the trigonometric functions, the inverse trigonometric functions, the hyperbolic trig functions, and the natural exponential and natural logarithm. All of the functions defined in the `ADmath` module define elementary functions of `ADnum` objects.\n",
    "\n",
    "### ADgraph\n",
    "Creates `ADgraph` objects, which can be used to show the computation process in either a computational graph or table."
   ]
  },
  {
   "cell_type": "markdown",
   "metadata": {
    "slideshow": {
     "slide_type": "slide"
    }
   },
   "source": [
    "# Installation Guide\n",
    "\n",
    "    pip install AD20\n",
    "\n",
    "Tests are included in the tests folder and are integrated on Travis and checked for coverage with Coveralls (99%).\n",
    "\n",
    "\n",
    "[![Build Status](https://travis-ci.org/CS207-AD20/cs207-FinalProject.svg?branch=master)](https://travis-ci.org/CS207-AD20/cs207-FinalProject.svg?branch=master)\n",
    "\n",
    "[![Coverage Status](https://coveralls.io/repos/github/CS207-AD20/cs207-FinalProject/badge.svg?branch=master)](https://coveralls.io/github/CS207-AD20/cs207-FinalProject?branch=master)\n"
   ]
  },
  {
   "cell_type": "markdown",
   "metadata": {
    "slideshow": {
     "slide_type": "slide"
    }
   },
   "source": [
    "## Steps\n",
    "\n",
    "1. initialize the variable to a specific value it should be evaluated at and to the derivative it should have\n",
    "2. define a function\n",
    "3. Use the class attributes to access the value and deriviative of the function"
   ]
  },
  {
   "cell_type": "markdown",
   "metadata": {
    "slideshow": {
     "slide_type": "slide"
    }
   },
   "source": [
    "## Example 1: Simple Elementary Functions"
   ]
  },
  {
   "cell_type": "code",
   "execution_count": 7,
   "metadata": {
    "slideshow": {
     "slide_type": "fragment"
    }
   },
   "outputs": [],
   "source": [
    "\n",
    "'''\n",
    "Step 0:\n",
    "- import necessary libraries\n",
    "'''\n",
    "import AD20\n",
    "import numpy as np\n",
    "from AD20.ADnum import ADnum\n",
    "import AD20.ADmath as ADmath\n",
    "import AD20.ADgraph as ADgraph"
   ]
  },
  {
   "cell_type": "code",
   "execution_count": 8,
   "metadata": {
    "slideshow": {
     "slide_type": "fragment"
    }
   },
   "outputs": [],
   "source": [
    "'''\n",
    "Step 1: \n",
    "- initialize the variable to a specific value it should be evaluated at\n",
    "- initialize the derivative of the variable\n",
    "OR\n",
    "- initialize number of inputs(ins) and order (ind) \n",
    "'''\n",
    "x = ADnum(2, der = 1)\n",
    "\n",
    "'''\n",
    "Step 2:\n",
    "- define a function f\n",
    "'''\n",
    "f = 2 * x**3"
   ]
  },
  {
   "cell_type": "code",
   "execution_count": 9,
   "metadata": {
    "slideshow": {
     "slide_type": "subslide"
    }
   },
   "outputs": [
    {
     "name": "stdout",
     "output_type": "stream",
     "text": [
      "16.0\n",
      "24.0\n",
      "2.0\n",
      "1.0\n"
     ]
    }
   ],
   "source": [
    "'''\n",
    "Step 3:\n",
    "- Use the class attributes to access the value and deriviative of the function\n",
    "\n",
    "x = 2\n",
    "f = 2 * x**3\n",
    "\n",
    "'''\n",
    "print(f.val) # value of f, evaluated at x (2 * 8 = 16)\n",
    "print(f.der) # derivative of f, evaluated at x (6 * 4 = 24)\n",
    "print(x.val) # value of x, the variable itself (2)\n",
    "print(x.der) # derivative of x (1)"
   ]
  },
  {
   "cell_type": "markdown",
   "metadata": {
    "slideshow": {
     "slide_type": "slide"
    }
   },
   "source": [
    "# Example 2: Using ADmath"
   ]
  },
  {
   "cell_type": "code",
   "execution_count": 10,
   "metadata": {
    "slideshow": {
     "slide_type": "fragment"
    }
   },
   "outputs": [
    {
     "name": "stdout",
     "output_type": "stream",
     "text": [
      "1.2246467991473532e-16\n",
      "-1.0\n",
      "3.141592653589793\n",
      "1.0\n"
     ]
    }
   ],
   "source": [
    "x = ADnum(np.pi, der = 1) # Step 1: initialize x, this time at pi\n",
    "\n",
    "f = ADmath.sin(x) # Step 2: create a function, using elementary functions from the ADmath module\n",
    "\n",
    "print(f.val) # should print 1.22e-16 due to floating point error in numpy implementation (should be sin(pi) = 0)\n",
    "print(f.der) # should print -1.0 (cos(pi) = -1)\n",
    "print(x.val) # should print 3.14 (pi)\n",
    "print(x.der) # should print 1 (1)"
   ]
  },
  {
   "cell_type": "markdown",
   "metadata": {
    "slideshow": {
     "slide_type": "slide"
    }
   },
   "source": [
    "# Example 3: Multiple Variables"
   ]
  },
  {
   "cell_type": "code",
   "execution_count": 11,
   "metadata": {
    "slideshow": {
     "slide_type": "fragment"
    }
   },
   "outputs": [
    {
     "name": "stdout",
     "output_type": "stream",
     "text": [
      "26.0\n",
      "[12.  2.]\n",
      "3.0\n",
      "[1. 0.]\n",
      "4.0\n",
      "[0. 1.]\n"
     ]
    }
   ],
   "source": [
    "# Step 1: intialize x and y to a specific value\n",
    "x = ADnum(3, ins = 2, ind = 0) \n",
    "y = ADnum(4, ins = 2, ind = 1)\n",
    "\n",
    "# Step 2: define a function f\n",
    "f = 2 * y + 2 * x**2\n",
    "\n",
    "# Steps 3 and 4: Use the class attributes to access the value and \n",
    "# deriviative of the function at the value of the input x \n",
    "print(f.val) # 2 * 4 + 2 * 9 = 26\n",
    "print(f.der) # 4 * 3 = 12 AND 2 * 1 = 2\n",
    "print(x.val) # 3\n",
    "print(x.der) # 1 AND 0\n",
    "print(y.val) # 4\n",
    "print(y.der) # 0 AND 1"
   ]
  },
  {
   "cell_type": "markdown",
   "metadata": {
    "slideshow": {
     "slide_type": "slide"
    }
   },
   "source": [
    "# Example 4: Vector-valued Functions"
   ]
  },
  {
   "cell_type": "code",
   "execution_count": 12,
   "metadata": {
    "slideshow": {
     "slide_type": "fragment"
    }
   },
   "outputs": [
    {
     "name": "stdout",
     "output_type": "stream",
     "text": [
      "4.0\n",
      "[4. 0.]\n",
      "5.0\n",
      "[1. 1.]\n",
      "12.0\n",
      "[0. 4.]\n"
     ]
    }
   ],
   "source": [
    "# Step 1: intialize x and y to a specific value\n",
    "x = ADnum(2, ins = 2, ind = 0)\n",
    "y = ADnum(3, ins = 2, ind = 1)\n",
    "\n",
    "# Step 2: define a function F as a vector\n",
    "F = [x**2, x+y, 4*y]\n",
    "\n",
    "print(F[0].val) # 2^2 = 4\n",
    "print(F[0].der) # 2 * 2 = 4 AND 0\n",
    "print(F[1].val) # 2 + 3 = 5\n",
    "print(F[1].der) # 1 AND 1\n",
    "print(F[2].val) # 4 * 3 = 12\n",
    "print(F[2].der) # 0 AND 4"
   ]
  },
  {
   "cell_type": "markdown",
   "metadata": {
    "slideshow": {
     "slide_type": "slide"
    }
   },
   "source": [
    "# Example 5: Vector-valued Inputs"
   ]
  },
  {
   "cell_type": "code",
   "execution_count": 13,
   "metadata": {
    "slideshow": {
     "slide_type": "fragment"
    }
   },
   "outputs": [
    {
     "name": "stdout",
     "output_type": "stream",
     "text": [
      "[ 6.  8. 10.]\n",
      "[2. 2. 2.]\n",
      "[3. 4. 5.]\n",
      "[1. 1. 1.]\n"
     ]
    }
   ],
   "source": [
    "x = ADnum([3,4,5], ins = 1, ind = 0)\n",
    "\n",
    "f = 2*x\n",
    "\n",
    "print(f.val) \n",
    "print(f.der) \n",
    "print(x.val) \n",
    "print(x.der) "
   ]
  },
  {
   "cell_type": "markdown",
   "metadata": {
    "slideshow": {
     "slide_type": "slide"
    }
   },
   "source": [
    "# Computational Plot, Graph, and Table\n",
    "\n",
    "In addition to the value and derivative, our `ADnum` objects also have a `graph` attribute, which stores a dictionary representing the edges of the computational graph."
   ]
  },
  {
   "cell_type": "code",
   "execution_count": 14,
   "metadata": {
    "slideshow": {
     "slide_type": "subslide"
    }
   },
   "outputs": [
    {
     "data": {
      "image/png": "[encoded data removed]",
      "text/plain": [
       "<Figure size 432x288 with 1 Axes>"
      ]
     },
     "metadata": {
      "needs_background": "light"
     },
     "output_type": "display_data"
    }
   ],
   "source": [
    "x = ADnum(5, der = 1)\n",
    "\n",
    "def f(x):\n",
    "    return x**3 + ADmath.sin(5 * x)\n",
    "\n",
    "g = ADgraph.plot_ADnum(f)"
   ]
  },
  {
   "cell_type": "code",
   "execution_count": 15,
   "metadata": {
    "slideshow": {
     "slide_type": "subslide"
    }
   },
   "outputs": [
    {
     "data": {
      "image/png": "[encoded data removed]",
      "text/plain": [
       "<Figure size 432x288 with 1 Axes>"
      ]
     },
     "metadata": {
      "needs_background": "light"
     },
     "output_type": "display_data"
    }
   ],
   "source": [
    "graph = ADgraph.draw_graph(f(x))"
   ]
  },
  {
   "cell_type": "code",
   "execution_count": 16,
   "metadata": {
    "slideshow": {
     "slide_type": "subslide"
    }
   },
   "outputs": [
    {
     "data": {
      "text/html": [
       "<div>\n",
       "<style scoped>\n",
       "    .dataframe tbody tr th:only-of-type {\n",
       "        vertical-align: middle;\n",
       "    }\n",
       "\n",
       "    .dataframe tbody tr th {\n",
       "        vertical-align: top;\n",
       "    }\n",
       "\n",
       "    .dataframe thead th {\n",
       "        text-align: right;\n",
       "    }\n",
       "</style>\n",
       "<table border=\"1\" class=\"dataframe\">\n",
       "  <thead>\n",
       "    <tr style=\"text-align: right;\">\n",
       "      <th></th>\n",
       "      <th>Trace</th>\n",
       "      <th>Operation</th>\n",
       "      <th>Value</th>\n",
       "      <th>Derivative</th>\n",
       "    </tr>\n",
       "  </thead>\n",
       "  <tbody>\n",
       "    <tr>\n",
       "      <th>4</th>\n",
       "      <td>X0</td>\n",
       "      <td>multiply(5.0 , X2)</td>\n",
       "      <td>25.0</td>\n",
       "      <td>5.0</td>\n",
       "    </tr>\n",
       "    <tr>\n",
       "      <th>3</th>\n",
       "      <td>X1</td>\n",
       "      <td>sin(X0)</td>\n",
       "      <td>-0.13235175009777303</td>\n",
       "      <td>4.956014059317368</td>\n",
       "    </tr>\n",
       "    <tr>\n",
       "      <th>2</th>\n",
       "      <td>X2</td>\n",
       "      <td>input</td>\n",
       "      <td>5.0</td>\n",
       "      <td>1.0</td>\n",
       "    </tr>\n",
       "    <tr>\n",
       "      <th>1</th>\n",
       "      <td>X3</td>\n",
       "      <td>pow(X2 , 3.0)</td>\n",
       "      <td>125.0</td>\n",
       "      <td>75.0</td>\n",
       "    </tr>\n",
       "    <tr>\n",
       "      <th>0</th>\n",
       "      <td>X4</td>\n",
       "      <td>add(X1 , X3)</td>\n",
       "      <td>124.86764824990223</td>\n",
       "      <td>79.95601405931737</td>\n",
       "    </tr>\n",
       "  </tbody>\n",
       "</table>\n",
       "</div>"
      ],
      "text/plain": [
       "  Trace           Operation                 Value         Derivative\n",
       "4    X0  multiply(5.0 , X2)                  25.0                5.0\n",
       "3    X1             sin(X0)  -0.13235175009777303  4.956014059317368\n",
       "2    X2               input                   5.0                1.0\n",
       "1    X3       pow(X2 , 3.0)                 125.0               75.0\n",
       "0    X4        add(X1 , X3)    124.86764824990223  79.95601405931737"
      ]
     },
     "execution_count": 16,
     "metadata": {},
     "output_type": "execute_result"
    }
   ],
   "source": [
    "ADgraph.gen_table(f(x))"
   ]
  },
  {
   "cell_type": "markdown",
   "metadata": {
    "slideshow": {
     "slide_type": "slide"
    }
   },
   "source": [
    "# Graphic User Interface\n",
    "\n",
    "A pedogogical tool to teach people about automatic differentiation procedures."
   ]
  },
  {
   "cell_type": "markdown",
   "metadata": {
    "slideshow": {
     "slide_type": "slide"
    }
   },
   "source": [
    "# Future Work\n",
    "\n",
    "* Extend GUI to work with multiple inputs\n",
    "* Develop a package using our library for other applications of AD\n"
   ]
  },
  {
   "cell_type": "markdown",
   "metadata": {
    "slideshow": {
     "slide_type": "slide"
    }
   },
   "source": [
    "# Conclusion\n",
    "\n",
    "We have successfully built a fully-functional forward-mode automatic differentiation library. Via `ADnum` and `ADmath` libraries, users can compute the derivatives of any complicated functions.\n",
    "\n",
    "For our extension, we created an interactive graphic user interface (GUI) for users to input their own functions and variables to observe the intermediate steps, while providing the computational graph and traces. This provided an educational opportunity for users to learn about the steps under the hood."
   ]
  },
  {
   "cell_type": "markdown",
   "metadata": {
    "slideshow": {
     "slide_type": "slide"
    }
   },
   "source": [
    "# Questions?\n",
    "\n",
    "\n",
    "\n",
    "# Thank You!"
   ]
  }
 ],
 "metadata": {
  "celltoolbar": "Slideshow",
  "kernelspec": {
   "display_name": "Python 3",
   "language": "python",
   "name": "python3"
  },
  "language_info": {
   "codemirror_mode": {
    "name": "ipython",
    "version": 3
   },
   "file_extension": ".py",
   "mimetype": "text/x-python",
   "name": "python",
   "nbconvert_exporter": "python",
   "pygments_lexer": "ipython3",
   "version": "3.5.6"
  }
 },
 "nbformat": 4,
 "nbformat_minor": 2
}
