{
 "cells": [
  {
   "cell_type": "markdown",
   "metadata": {
    "slideshow": {
     "slide_type": "slide"
    }
   },
   "source": [
    "# CS 207 Final Project\n",
    "\n",
    "## Automatic Differentiation\n",
    "\n",
    "#### Group 20: Lindsey Brown, Xinyue Wang, Kevin Yoon\n",
    "\n",
    "#### December 12, 2018\n"
   ]
  },
  {
   "cell_type": "markdown",
   "metadata": {
    "slideshow": {
     "slide_type": "subslide"
    }
   },
   "source": [
    "# Table of Contents\n",
    "\n",
    "* Background\n",
    "* Overview\n",
    "* How to Use\n",
    "* How to Install\n",
    "* Examples\n",
    "* Extensions\n",
    "* Running the tests (?)"
   ]
  },
  {
   "cell_type": "markdown",
   "metadata": {
    "slideshow": {
     "slide_type": "slide"
    }
   },
   "source": [
    "# Getting Started\n",
    "\n",
    "## Goal\n",
    "- Build a software library that can execute Automatic Differentiation\n",
    "\n",
    "## Background\n",
    "- Automatic Differentiation - computes the derivative of a function, unique for its ability to handle complex combinations of functions without sacrificing the accuracy\n",
    "- A function can be decomposed into a sequence of elementary arithmetic operations (addition, subtraction, multiplication, division, etc.) and elementary functions (exp, log, sin, cos, etc.).\n",
    "- Applications in machine learning, parameter optimization, sensitivity analysis, physical modeling, etc\n"
   ]
  },
  {
   "cell_type": "markdown",
   "metadata": {
    "slideshow": {
     "slide_type": "subslide"
    }
   },
   "source": [
    "## Overview\n",
    "\n",
    "`ADnum` objects represent mathematical objects for which they would like to evaluate a value or a derivative. \n",
    "\n",
    "The elementary operations and functions defined for the `ADnum` class can be composed to create any desired function - users need to create an `ADnum` object for each input variable and use all the mathematical functions defined in the `ADmath` library to implement special functions. \n",
    "\n",
    "Furthermore, use `ADgraph` to create a computational graph for your function.\n"
   ]
  },
  {
   "cell_type": "markdown",
   "metadata": {
    "slideshow": {
     "slide_type": "subslide"
    }
   },
   "source": [
    "### ADnum\n",
    "Creates `ADnum` objects, which are defined by the attributes of a value and a derivative, from numbers or tuples.  Define all of the numerical operations for `ADnum` objects, so that they correctly track all derivatives.\n",
    "\n",
    "### ADmath\n",
    "Implements the trigonometric functions, the inverse trigonometric functions, the hyperbolic trig functions, and the natural exponential and natural logarithm. All of the functions defined in the `ADmath` module define elementary functions of `ADnum` objects.\n",
    "\n",
    "### ADgraph\n",
    "Creates `ADgraph` objects, which can be used to show the computation process in either a graph (ADgraph.py) or table (ADtable.py)"
   ]
  },
  {
   "cell_type": "markdown",
   "metadata": {
    "slideshow": {
     "slide_type": "subslide"
    }
   },
   "source": [
    "## Steps\n",
    "\n",
    "0. import necessary libraries (do it once at the beginning)\n",
    "1. initialize the variable to a specific value it should be evaluated at and to the derivative it should have\n",
    "2. define a function\n",
    "3. Use the class attributes to access the value and deriviative of the function"
   ]
  },
  {
   "cell_type": "markdown",
   "metadata": {
    "slideshow": {
     "slide_type": "slide"
    }
   },
   "source": [
    "# Installation Guide\n",
    "\n",
    "    pip install AD20\n",
    "\n",
    "Run any script in the proper directory (at the head AD20 directory)\n",
    "\n"
   ]
  },
  {
   "cell_type": "markdown",
   "metadata": {
    "slideshow": {
     "slide_type": "slide"
    }
   },
   "source": [
    "## Example 1: Simple Elementary Functions"
   ]
  },
  {
   "cell_type": "code",
   "execution_count": 1,
   "metadata": {
    "slideshow": {
     "slide_type": "fragment"
    }
   },
   "outputs": [
    {
     "name": "stdout",
     "output_type": "stream",
     "text": [
      "/Users/jiwhanyoon/Desktop/cs207/cs207-FinalProject\n",
      "/Users/jiwhanyoon/Desktop/cs207/cs207-FinalProject/AD20/AD20\n"
     ]
    }
   ],
   "source": [
    "%cd ..\n",
    "%cd AD20/AD20\n",
    "'''\n",
    "Step 0:\n",
    "- import necessary libraries\n",
    "'''\n",
    "import numpy as np\n",
    "from ADnum_multivar import ADnum\n",
    "import ADmath_multivar as ADmath"
   ]
  },
  {
   "cell_type": "code",
   "execution_count": 2,
   "metadata": {
    "slideshow": {
     "slide_type": "fragment"
    }
   },
   "outputs": [],
   "source": [
    "'''\n",
    "Step 1: \n",
    "- initialize the variable to a specific value it should be evaluated at\n",
    "- initialize the derivative of the variable\n",
    "'''\n",
    "x = ADnum(2, der = 1)\n",
    "\n",
    "'''\n",
    "Step 2:\n",
    "- define a function f\n",
    "'''\n",
    "f = 2 * x**3"
   ]
  },
  {
   "cell_type": "code",
   "execution_count": 3,
   "metadata": {
    "slideshow": {
     "slide_type": "subslide"
    }
   },
   "outputs": [
    {
     "name": "stdout",
     "output_type": "stream",
     "text": [
      "16.0\n",
      "24.0\n",
      "2.0\n",
      "1.0\n"
     ]
    }
   ],
   "source": [
    "'''\n",
    "Step 3:\n",
    "- Use the class attributes to access the value and deriviative of the function\n",
    "\n",
    "x = 2\n",
    "f = 2 * x**3\n",
    "\n",
    "'''\n",
    "print(f.val) # value of f, evaluated at x (2 * 8 = 16)\n",
    "print(f.der) # derivative of f, evaluated at x (6 * 4 = 24)\n",
    "print(x.val) # value of x, the variable itself (2)\n",
    "print(x.der) # derivative of x (1)"
   ]
  },
  {
   "cell_type": "markdown",
   "metadata": {
    "slideshow": {
     "slide_type": "slide"
    }
   },
   "source": [
    "# Example 2: Using ADmath"
   ]
  },
  {
   "cell_type": "code",
   "execution_count": 4,
   "metadata": {
    "slideshow": {
     "slide_type": "fragment"
    }
   },
   "outputs": [
    {
     "name": "stdout",
     "output_type": "stream",
     "text": [
      "1.2246467991473532e-16\n",
      "-1.0\n",
      "3.141592653589793\n",
      "1.0\n"
     ]
    }
   ],
   "source": [
    "x = ADnum(np.pi, der = 1) # Step 1: initialize x, this time at pi\n",
    "\n",
    "f = ADmath.sin(x) # Step 2: create a function, using elementary functions from the ADmath module\n",
    "\n",
    "print(f.val) # should print 1.22e-16 due to floating point error in numpy implementation (should be sin(pi) = 0)\n",
    "print(f.der) # should print -1.0 (cos(pi) = -1)\n",
    "print(x.val) # should print 3.14 (pi)\n",
    "print(x.der) # should print 1 (1)"
   ]
  },
  {
   "cell_type": "markdown",
   "metadata": {
    "slideshow": {
     "slide_type": "slide"
    }
   },
   "source": [
    "# Example 3: Multiple Variables"
   ]
  },
  {
   "cell_type": "code",
   "execution_count": 5,
   "metadata": {
    "slideshow": {
     "slide_type": "fragment"
    }
   },
   "outputs": [
    {
     "name": "stdout",
     "output_type": "stream",
     "text": [
      "26.0\n",
      "[12.  2.]\n",
      "3.0\n",
      "[1. 0.]\n",
      "4.0\n",
      "[0. 1.]\n"
     ]
    }
   ],
   "source": [
    "# Step 1: intialize x and y to a specific value\n",
    "x = ADnum(3, ins = 2, ind = 0) \n",
    "y = ADnum(4, ins = 2, ind = 1)\n",
    "\n",
    "# Step 2: define a function f\n",
    "f = 2 * y + 2 * x**2\n",
    "\n",
    "# Steps 3 and 4: Use the class attributes to access the value and \n",
    "# deriviative of the function at the value of the input x \n",
    "print(f.val) # 2 * 4 + 2 * 9 = 26\n",
    "print(f.der) # 4 * 3 = 12 AND 2 * 1 = 2\n",
    "print(x.val) # 3\n",
    "print(x.der) # 1 AND 0\n",
    "print(y.val) # 4\n",
    "print(y.der) # 0 AND 1"
   ]
  },
  {
   "cell_type": "markdown",
   "metadata": {
    "slideshow": {
     "slide_type": "slide"
    }
   },
   "source": [
    "# Example 4: Vector-valued Functions"
   ]
  },
  {
   "cell_type": "code",
   "execution_count": 6,
   "metadata": {
    "slideshow": {
     "slide_type": "fragment"
    }
   },
   "outputs": [
    {
     "name": "stdout",
     "output_type": "stream",
     "text": [
      "4.0\n",
      "[4. 0.]\n",
      "5.0\n",
      "[1. 1.]\n",
      "12.0\n",
      "[0. 4.]\n"
     ]
    }
   ],
   "source": [
    "# Step 1: intialize x and y to a specific value\n",
    "x = ADnum(2, ins = 2, ind = 0)\n",
    "y = ADnum(3, ins = 2, ind = 1)\n",
    "\n",
    "# Step 2: define a function F as a vector\n",
    "F = [x**2, x+y, 4*y]\n",
    "\n",
    "print(F[0].val) # 2^2 = 4\n",
    "print(F[0].der) # 2 * 2 = 4 AND 0\n",
    "print(F[1].val) # 2 + 3 = 5\n",
    "print(F[1].der) # 1 AND 1\n",
    "print(F[2].val) # 4 * 3 = 12\n",
    "print(F[2].der) # 0 AND 4"
   ]
  },
  {
   "cell_type": "markdown",
   "metadata": {
    "slideshow": {
     "slide_type": "slide"
    }
   },
   "source": [
    "\n",
    "# Extension 1: Computational Graph and Table\n",
    "\n",
    "Giving the users the opportunity to generate the graph of the function they created\n",
    "\n",
    "Learning the steps of AD behind the scenes"
   ]
  },
  {
   "cell_type": "code",
   "execution_count": null,
   "metadata": {
    "slideshow": {
     "slide_type": "subslide"
    }
   },
   "outputs": [],
   "source": []
  },
  {
   "cell_type": "markdown",
   "metadata": {
    "slideshow": {
     "slide_type": "slide"
    }
   },
   "source": [
    "# Extension 2: Graphic User Interface\n",
    "\n",
    "Giving users the opportunity to use an interactive tool to learn the steps of AD\n",
    "\n",
    "Educational tool to understand the steps under the hood\n",
    "\n",
    "\n"
   ]
  },
  {
   "cell_type": "code",
   "execution_count": null,
   "metadata": {
    "slideshow": {
     "slide_type": "subslide"
    }
   },
   "outputs": [],
   "source": []
  },
  {
   "cell_type": "code",
   "execution_count": null,
   "metadata": {
    "slideshow": {
     "slide_type": "slide"
    }
   },
   "outputs": [],
   "source": []
  },
  {
   "cell_type": "markdown",
   "metadata": {
    "slideshow": {
     "slide_type": "slide"
    }
   },
   "source": [
    "# Conclusion\n",
    "\n",
    "We have successfully built a fully-functional forward-mode automatic differentiation library. Via `ADnum` and `ADmath` libraries, users can compute the derivatives of any complicated functions.\n",
    "\n",
    "For our extension, we created an interactive graphic user interface (GUI) for users to input their own functions and variables to observe the intermediate steps. This provided an educational opportunity for users to learn about the steps under the hood."
   ]
  },
  {
   "cell_type": "markdown",
   "metadata": {},
   "source": [
    "# Questions?"
   ]
  },
  {
   "cell_type": "code",
   "execution_count": null,
   "metadata": {},
   "outputs": [],
   "source": []
  }
 ],
 "metadata": {
  "celltoolbar": "Slideshow",
  "kernelspec": {
   "display_name": "Python 3",
   "language": "python",
   "name": "python3"
  },
  "language_info": {
   "codemirror_mode": {
    "name": "ipython",
    "version": 3
   },
   "file_extension": ".py",
   "mimetype": "text/x-python",
   "name": "python",
   "nbconvert_exporter": "python",
   "pygments_lexer": "ipython3",
   "version": "3.5.6"
  }
 },
 "nbformat": 4,
 "nbformat_minor": 2
}
